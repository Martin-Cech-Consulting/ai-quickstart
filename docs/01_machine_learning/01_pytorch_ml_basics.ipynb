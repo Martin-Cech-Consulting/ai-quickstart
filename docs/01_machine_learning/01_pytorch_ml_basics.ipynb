{
 "cells": [
  {
   "cell_type": "markdown",
   "metadata": {
    "editable": true,
    "tags": []
   },
   "source": [
    "# PyTorch Machine Learning Basics\n",
    "\n",
    ">**Credits:** \n",
    ">The coding examples are taken from the PyTorch course from [Daniel Bourke](https://github.com/mrdbourke) - https://www.mrdbourke.com\n",
    ">\n",
    ">The course resources:\n",
    ">* YT: https://www.youtube.com/watch?v=V_xro1bcAuA\n",
    ">* Git: https://github.com/mrdbourke/pytorch-deep-learning/\n",
    ">* Jupyter Documentation: https://www.learnpytorch.io\n",
    "\n",
    "\n",
    "Programming was done on an Apple Silicon, hence using Apple MPS as device.\n",
    "\n",
    "For Cuda GPU, additional packages must be installed - see https://pypi.org/project/torch/#installation\n"
   ]
  },
  {
   "cell_type": "markdown",
   "metadata": {
    "tags": []
   },
   "source": [
    "## 01 Prepare environment and install packages\n",
    "\n",
    "\n",
    "Using Python 3.11 as it is more compatible at the moment (Feb 2023).\n",
    "\n",
    "Required packages:\n",
    "* torch\n",
    "* torchinfo\n",
    "* torchmetrics\n",
    "* matplotlib\n",
    "* scikit-learn\n",
    "\n"
   ]
  },
  {
   "cell_type": "code",
   "execution_count": 1,
   "metadata": {},
   "outputs": [],
   "source": [
    "#!pip install -U torch torchinfo torchmetrics matplotlib scikit-learn"
   ]
  },
  {
   "cell_type": "code",
   "execution_count": 2,
   "metadata": {
    "editable": true,
    "tags": []
   },
   "outputs": [
    {
     "name": "stdout",
     "output_type": "stream",
     "text": [
      "Torch Version: 2.2.0\n"
     ]
    }
   ],
   "source": [
    "# Check installation\n",
    "import torch\n",
    "from torch import nn\n",
    "import matplotlib.pyplot as plt\n",
    "\n",
    "print(f\"Torch Version: {torch.__version__}\")"
   ]
  },
  {
   "cell_type": "markdown",
   "metadata": {
    "tags": []
   },
   "source": [
    "## 02 Prepare Tensor Device\n",
    "\n",
    "Pytorch uses different devices to run the computation, we will use following order:\n",
    "1. MPS Metal Performance Shader (MPS) for Apple Silicon Chips\n",
    "2. CPU as backup device\n",
    "\n",
    "GPU (cuda) is not part of this Notebook, due to missing development device at the moment.\n",
    "\n",
    "**_Hint_:**\n",
    "* Tensors are created by default on the device \"cpu\" and can be overidden by `torch.set_default_device(device)`\n",
    "* For some operations it might be needed to shift the Tensor back to cpu, by using `torch.Tensor.to(torch.device(\"cpu\"))`\n",
    "\n",
    "<br/><br/>\n",
    "\n",
    "### 02.01 Set MPS device\n",
    "\n",
    "PyTorch implements Metal Perfromance Shader (MPS) for more performance on Apple Silicon chips: https://pytorch.org/docs/stable/notes/mps.html\n",
    "\n",
    "MPS is best used for training extremly large models where overhead of 25-110us is acceptable - https://github.com/pytorch/pytorch/issues/77799#issuecomment-1305775134https://github.com/pytorch/pytorch/issues/77799#issuecomment-1305775134\n",
    "\n",
    "Otherwise it might slow down"
   ]
  },
  {
   "cell_type": "code",
   "execution_count": 3,
   "metadata": {},
   "outputs": [
    {
     "name": "stdout",
     "output_type": "stream",
     "text": [
      "device: mps\n"
     ]
    }
   ],
   "source": [
    "# Check that MPS is available\n",
    "if not torch.backends.mps.is_available():\n",
    "    if not torch.backends.mps.is_built():\n",
    "        print(\"MPS not available because the current PyTorch install was not built with MPS enabled.\")\n",
    "    else:\n",
    "        print(\"MPS not available because the current MacOS version is not 12.3+ and/or you do not have an MPS-enabled device on this machine.\")\n",
    "    device = torch.device(\"cpu\")\n",
    "else:\n",
    "    device = torch.device(\"mps\")\n",
    "\n",
    "# Check torch.device\n",
    "print(f\"device: {device}\")"
   ]
  },
  {
   "cell_type": "markdown",
   "metadata": {},
   "source": [
    "## 03 Deep Learning Steps\n",
    "Credits to: mrdbourke - https://www.learnpytorch.io/01_pytorch_workflow/\n",
    "\n",
    "1. Getting Data ready\n",
    "2. Build or pick a pre-trained model\n",
    "    1. Build a loss function & optimizer\n",
    "    2. Build a training loop\n",
    "3. Fit the model to the data and make a prediction\n",
    "4. Evaluate the model\n",
    "5. Improve through experimentation\n",
    "6. Save and reload your trained model"
   ]
  },
  {
   "cell_type": "markdown",
   "metadata": {},
   "source": [
    "## 04 Preparations\n",
    "\n",
    "This is the first step in the tutorial from Daniel Bourke - see https://www.learnpytorch.io/01_pytorch_workflow/\n",
    "\n",
    "### 04.01 Prepare a Plot Function\n",
    "\n",
    "For visualization of Data, it is handy to have a function ready."
   ]
  },
  {
   "cell_type": "code",
   "execution_count": 4,
   "metadata": {},
   "outputs": [],
   "source": [
    "def plot_data(train_data, \n",
    "              train_labels, \n",
    "              test_data, \n",
    "              test_labels, \n",
    "              predictions=None):\n",
    "  \"\"\"\n",
    "  Plots training data, test data and compares predictions.\n",
    "  All Tensors are moved to CPU device for convenience\n",
    "  \"\"\"\n",
    "  plt.figure(figsize=(10, 7))\n",
    "\n",
    "  # Plot training data in blue\n",
    "  plt.scatter(train_data.cpu(), train_labels.cpu(), c=\"b\", s=2, label=\"Training data\")\n",
    "  \n",
    "  # Plot test data in green\n",
    "  plt.scatter(test_data.cpu(), test_labels.cpu(), c=\"orange\", s=2, label=\"Testing data\")\n",
    "\n",
    "  if predictions is not None:\n",
    "    # Plot the predictions in red (predictions were made on the test data)\n",
    "    plt.scatter(test_data.cpu(), predictions.cpu(), c=\"r\", s=2, label=\"Predictions\")\n",
    "\n",
    "  # Show the legend\n",
    "  plt.legend(prop={\"size\": 14})"
   ]
  },
  {
   "cell_type": "markdown",
   "metadata": {},
   "source": [
    "### 04.02 Create Training and Test Data\n",
    "\n",
    "Creating a data set with known parameters (weight and bias) which our model should learn.\n",
    "\n",
    "This is a straight line which you can see by the formula `y = weight * X + bias` (linear regression)\n",
    "\n",
    "It has only 1 Feature (`X` as input) and 1 label (`y` as output)."
   ]
  },
  {
   "cell_type": "code",
   "execution_count": 5,
   "metadata": {},
   "outputs": [
    {
     "name": "stdout",
     "output_type": "stream",
     "text": [
      "X: tensor([[0.0000],\n",
      "        [0.0200],\n",
      "        [0.0400],\n",
      "        [0.0600],\n",
      "        [0.0800],\n",
      "        [0.1000],\n",
      "        [0.1200],\n",
      "        [0.1400],\n",
      "        [0.1600],\n",
      "        [0.1800]])\n",
      "y: tensor([[-0.0500],\n",
      "        [-0.0460],\n",
      "        [-0.0420],\n",
      "        [-0.0380],\n",
      "        [-0.0340],\n",
      "        [-0.0300],\n",
      "        [-0.0260],\n",
      "        [-0.0220],\n",
      "        [-0.0180],\n",
      "        [-0.0140]])\n"
     ]
    }
   ],
   "source": [
    "# Create weight and bias\n",
    "weight = 0.2\n",
    "bias = -0.05\n",
    "\n",
    "# Create range values - start 0 & end 1 in 0.02 steps = 50 Datapoints\n",
    "start = 0\n",
    "end = 1\n",
    "step = 0.02\n",
    "\n",
    "# Create X and y (features and labels)\n",
    "X = torch.arange(start, end, step).unsqueeze(dim=1) # without unsqueeze, errors will happen later on (shapes within linear layers)\n",
    "y = weight * X + bias \n",
    "\n",
    "# Print 10 Samples each\n",
    "print(\"X:\", X[:10])\n",
    "print(\"y:\", y[:10])"
   ]
  },
  {
   "cell_type": "code",
   "execution_count": 6,
   "metadata": {
    "editable": true,
    "slideshow": {
     "slide_type": ""
    },
    "tags": []
   },
   "outputs": [
    {
     "name": "stdout",
     "output_type": "stream",
     "text": [
      "X (Training/Test): 40/10\n",
      "y (Training/Test): 40/10\n"
     ]
    }
   ],
   "source": [
    "# Split data into 80% training and 20% test data\n",
    "train_split = int(0.8 * len(X))\n",
    "X_train, y_train = X[:train_split], y[:train_split]\n",
    "X_test, y_test = X[train_split:], y[train_split:]\n",
    "\n",
    "# Check the split\n",
    "print(f\"X (Training/Test): {len(X_train)}/{len(X_test)}\")\n",
    "print(f\"y (Training/Test): {len(y_train)}/{len(y_test)}\")"
   ]
  },
  {
   "cell_type": "markdown",
   "metadata": {},
   "source": [
    "### 04.03 Plot data\n",
    "\n",
    "Using previous defined function to visualize training and test data.\n",
    "\n",
    "Expectation: Linear line"
   ]
  },
  {
   "cell_type": "code",
   "execution_count": 7,
   "metadata": {
    "tags": []
   },
   "outputs": [
    {
     "data": {
      "image/png": "[encoded data removed]",
      "text/plain": [
       "<Figure size 1000x700 with 1 Axes>"
      ]
     },
     "metadata": {},
     "output_type": "display_data"
    }
   ],
   "source": [
    "plot_data(X_train, y_train, X_test, y_test)"
   ]
  },
  {
   "cell_type": "markdown",
   "metadata": {},
   "source": [
    "## 05 Create a Model\n",
    "\n",
    "Create a new model by inheriting the `nn.Module` class.\n",
    "\n",
    "The constructor initializes the super class and sets weights and bias' to random values.\n",
    "\n",
    "To complete the model, a `forward` function must be defined for computing the propagation thru the neural network's layers (forward pass) - in our case only 1 Layer.\n",
    "\n",
    "This class was taken from learnpytorch notebook, but the device has been added to generate the tensors.\n",
    "\n",
    "\n",
    "\n"
   ]
  },
  {
   "cell_type": "code",
   "execution_count": 8,
   "metadata": {
    "tags": []
   },
   "outputs": [
    {
     "data": {
      "text/plain": [
       "(LinearRegressionModel(),\n",
       " OrderedDict([('weights', tensor([0.3367])), ('bias', tensor([0.1288]))]))"
      ]
     },
     "execution_count": 8,
     "metadata": {},
     "output_type": "execute_result"
    }
   ],
   "source": [
    "# Create a Linear Regression model class\n",
    "class LinearRegressionModel(nn.Module): # <- almost everything in PyTorch is a nn.Module (think of this as neural network lego blocks)\n",
    "    def __init__(self, device=None):\n",
    "        super().__init__() \n",
    "        self.weights = nn.Parameter(torch.randn(1, # <- start with random weights (this will get adjusted as the model learns)\n",
    "                                                dtype=torch.float, # <- PyTorch loves float32 by default\n",
    "                                                device=device), # <- added the device for the tensor\n",
    "                                   requires_grad=True) # <- can we update this value with gradient descent?)\n",
    "\n",
    "        self.bias = nn.Parameter(torch.randn(1, # <- start with random bias (this will get adjusted as the model learns)\n",
    "                                            dtype=torch.float,# <- PyTorch loves float32 by default\n",
    "                                            device=device), # <- added the device for the tensor\n",
    "                                requires_grad=True) # <- can we update this value with gradient descent?))\n",
    "\n",
    "    # Forward defines the computation in the model\n",
    "    def forward(self, x: torch.Tensor) -> torch.Tensor: # <- \"x\" is the input data (e.g. training/testing features)\n",
    "        return self.weights * x + self.bias # <- this is the linear regression formula (y = m*x + b)\n",
    "    \n",
    "    \n",
    "# Set the manual seed when creating the model (this isn't always needed but is used for demonstrative purposes, try commenting it out and seeing what happens)\n",
    "torch.manual_seed(42)\n",
    "\n",
    "# Initializing the model without the device parameter for now\n",
    "model_0 = LinearRegressionModel()\n",
    "\n",
    "# Print Model and state_dict - default device should be shown for the tensors\n",
    "model_0, model_0.state_dict()"
   ]
  },
  {
   "cell_type": "code",
   "execution_count": 9,
   "metadata": {
    "tags": []
   },
   "outputs": [
    {
     "name": "stdout",
     "output_type": "stream",
     "text": [
      "Before: cpu\n",
      "After: mps:0\n"
     ]
    },
    {
     "data": {
      "text/plain": [
       "[Parameter containing:\n",
       " tensor([0.3367], device='mps:0', requires_grad=True),\n",
       " Parameter containing:\n",
       " tensor([0.1288], device='mps:0', requires_grad=True)]"
      ]
     },
     "execution_count": 9,
     "metadata": {},
     "output_type": "execute_result"
    }
   ],
   "source": [
    "# Check the Device of the first parameter\n",
    "print(f\"Before: {next(model_0.parameters()).device}\")\n",
    "\n",
    "# Set model to MPS (or whatever the device variable is pointing to)\n",
    "model_0.to(device)\n",
    "\n",
    "# Check the device after setting the model to the device\n",
    "print(f\"After: {next(model_0.parameters()).device}\")\n",
    "\n",
    "list(model_0.parameters())"
   ]
  },
  {
   "cell_type": "code",
   "execution_count": 10,
   "metadata": {},
   "outputs": [
    {
     "name": "stdout",
     "output_type": "stream",
     "text": [
      "Number of testing samples: 10\n",
      "Number of predictions made: 10\n",
      "Predicted values:\n",
      "tensor([[0.3982],\n",
      "        [0.4049],\n",
      "        [0.4116],\n",
      "        [0.4184],\n",
      "        [0.4251],\n",
      "        [0.4318],\n",
      "        [0.4386],\n",
      "        [0.4453],\n",
      "        [0.4520],\n",
      "        [0.4588]], device='mps:0')\n"
     ]
    }
   ],
   "source": [
    "# Make the first predictions with model & test data\n",
    "# Note: Our Model runs on MPS from before, so our Test Data must be on the same device\n",
    "with torch.inference_mode(): \n",
    "    y_preds = model_0(X_test.to(device))\n",
    "\n",
    "# Check the predictions\n",
    "print(f\"Number of testing samples: {len(X_test)}\") \n",
    "print(f\"Number of predictions made: {len(y_preds)}\")\n",
    "print(f\"Predicted values:\\n{y_preds}\")"
   ]
  },
  {
   "cell_type": "code",
   "execution_count": 11,
   "metadata": {},
   "outputs": [
    {
     "data": {
      "image/png": "[encoded data removed]",
      "text/plain": [
       "<Figure size 1000x700 with 1 Axes>"
      ]
     },
     "metadata": {},
     "output_type": "display_data"
    }
   ],
   "source": [
    "# Plot the predictions\n",
    "plot_data(X_train, y_train, X_test, y_test, predictions=y_preds)"
   ]
  },
  {
   "cell_type": "markdown",
   "metadata": {},
   "source": [
    "## 06 Train the model\n",
    "\n",
    "For training following steps are needed:\n",
    "1. Create a loss function - tells the model how far off it is\n",
    "2. Create an optimizer function - tells the model how to update the internal parameters\n",
    "3. Run a Training loop\n",
    "    * Forward pass (Model goes thru all the of the training data once, performing `forward()` function calulations) - `model(X_train)`\n",
    "    * Calculate the loss - `loss = loss_fn(y_pred, y_train)`\n",
    "    * Zero gradients (Optimizers gradients are accumulated by default) - `optimizer.zero_grad()`\n",
    "    * Perform backpropagation on the loss - `loss.backward()`\n",
    "    * Update the optimizer (gradient descent) - `optimizer.step()`\n",
    "4. Run a Testing loop\n",
    "    * Forward pass with test data - `model(X_test)`\n",
    "    * Calculate the loss with test data - `loss = loss_fn(y_pred, y_test)`\n",
    "    * Calculate evaluation matrix (optional)"
   ]
  },
  {
   "cell_type": "code",
   "execution_count": 12,
   "metadata": {
    "tags": []
   },
   "outputs": [],
   "source": [
    "# 1. Create loss function - L1Loss = Mean Absolute Error\n",
    "loss_fn = nn.L1Loss()\n",
    "\n",
    "# 2. Create optimizer - SGD = Stochastic gradient descent\n",
    "optimizer = torch.optim.SGD(params=model_0.parameters(), # optimize newly created model's parameters\n",
    "                            lr=0.01)"
   ]
  },
  {
   "cell_type": "code",
   "execution_count": 13,
   "metadata": {
    "tags": []
   },
   "outputs": [
    {
     "name": "stdout",
     "output_type": "stream",
     "text": [
      "Epoch: 0 | Train loss: 0.2321186512708664 | Test loss: 0.2869928479194641\n",
      "Epoch: 10 | Train loss: 0.11690870672464371 | Test loss: 0.1522829383611679\n",
      "Epoch: 20 | Train loss: 0.012798932380974293 | Test loss: 0.030703285709023476\n",
      "Epoch: 30 | Train loss: 0.007887219078838825 | Test loss: 0.01770268939435482\n",
      "Epoch: 40 | Train loss: 0.004448419902473688 | Test loss: 0.009430295787751675\n",
      "Epoch: 50 | Train loss: 0.007900259457528591 | Test loss: 0.007865997031331062\n",
      "Epoch: 60 | Train loss: 0.007900259457528591 | Test loss: 0.007865997031331062\n",
      "Epoch: 70 | Train loss: 0.007900259457528591 | Test loss: 0.007865997031331062\n",
      "Epoch: 80 | Train loss: 0.007900259457528591 | Test loss: 0.007865997031331062\n",
      "Epoch: 90 | Train loss: 0.007900259457528591 | Test loss: 0.007865997031331062\n"
     ]
    }
   ],
   "source": [
    "# Preeseeding number generator\n",
    "torch.manual_seed(42)\n",
    "\n",
    "# Set the number of epochs\n",
    "epochs = 100 \n",
    "\n",
    "\n",
    "# Create empty loss lists to track values\n",
    "train_loss_values = []\n",
    "test_loss_values = []\n",
    "epoch_count = []\n",
    "\n",
    "\n",
    "# Put data on the available device\n",
    "# Without this, error will happen (not all model/data on device)\n",
    "X_train = X_train.to(device)\n",
    "X_test = X_test.to(device)\n",
    "y_train = y_train.to(device)\n",
    "y_test = y_test.to(device)\n",
    "\n",
    "for epoch in range(epochs):\n",
    "    ### 3. Training Loop\n",
    "    model_0.train() # train mode is on by default after construction\n",
    "\n",
    "    # 1. Forward pass\n",
    "    y_pred = model_0(X_train)\n",
    "\n",
    "    # 2. Calculate loss\n",
    "    loss = loss_fn(y_pred, y_train)\n",
    "\n",
    "    # 3. Zero grad optimizer\n",
    "    optimizer.zero_grad()\n",
    "\n",
    "    # 4. Loss backward\n",
    "    loss.backward()\n",
    "\n",
    "    # 5. Step the optimizer\n",
    "    optimizer.step()\n",
    "\n",
    "    ### 4. Testing\n",
    "    model_0.eval() # put the model in evaluation mode for testing (inference)\n",
    "    # 1. Forward pass\n",
    "    with torch.inference_mode():\n",
    "        test_pred = model_0(X_test)\n",
    "\n",
    "        # 2. Calculate the loss\n",
    "        test_loss = loss_fn(test_pred, y_test)\n",
    "\n",
    "    if epoch % 10 == 0:\n",
    "        epoch_count.append(epoch)\n",
    "        train_loss_values.append(loss.cpu().detach().numpy())\n",
    "        test_loss_values.append(test_loss.cpu().detach().numpy())\n",
    "        print(f\"Epoch: {epoch} | Train loss: {loss} | Test loss: {test_loss}\")"
   ]
  },
  {
   "cell_type": "code",
   "execution_count": 16,
   "metadata": {},
   "outputs": [
    {
     "data": {
      "text/plain": [
       "<matplotlib.legend.Legend at 0x14d1d0650>"
      ]
     },
     "execution_count": 16,
     "metadata": {},
     "output_type": "execute_result"
    },
    {
     "data": {
      "image/png": "[encoded data removed]",
      "text/plain": [
       "<Figure size 640x480 with 1 Axes>"
      ]
     },
     "metadata": {},
     "output_type": "display_data"
    }
   ],
   "source": [
    "# Plot the loss curves\n",
    "plt.plot(epoch_count, train_loss_values, label=\"Train loss\")\n",
    "plt.plot(epoch_count, test_loss_values, label=\"Test loss\")\n",
    "plt.title(\"Training and test loss curves\")\n",
    "plt.ylabel(\"Loss\")\n",
    "plt.xlabel(\"Epochs\")\n",
    "plt.legend()"
   ]
  },
  {
   "cell_type": "markdown",
   "metadata": {},
   "source": [
    "## 07 Show Learned Parameters"
   ]
  },
  {
   "cell_type": "code",
   "execution_count": 18,
   "metadata": {
    "tags": []
   },
   "outputs": [
    {
     "name": "stdout",
     "output_type": "stream",
     "text": [
      "The model learned the following values for weights and bias:\n",
      "OrderedDict([('weights', tensor([0.2046], device='mps:0')),\n",
      "             ('bias', tensor([-0.0597], device='mps:0'))])\n",
      "\n",
      "And the original values for weights and bias are:\n",
      "weights: 0.2, bias: -0.05\n"
     ]
    }
   ],
   "source": [
    "# Find our model's learned parameters\n",
    "from pprint import pprint # pprint = pretty print, see: https://docs.python.org/3/library/pprint.html \n",
    "print(\"The model learned the following values for weights and bias:\")\n",
    "pprint(model_0.state_dict())\n",
    "print(\"\\nAnd the original values for weights and bias are:\")\n",
    "print(f\"weights: {weight}, bias: {bias}\")"
   ]
  },
  {
   "cell_type": "markdown",
   "metadata": {},
   "source": [
    "## 08 Use the Model"
   ]
  },
  {
   "cell_type": "code",
   "execution_count": 19,
   "metadata": {
    "tags": []
   },
   "outputs": [
    {
     "data": {
      "text/plain": [
       "tensor([[0.1040],\n",
       "        [0.1081],\n",
       "        [0.1122],\n",
       "        [0.1163],\n",
       "        [0.1203],\n",
       "        [0.1244],\n",
       "        [0.1285],\n",
       "        [0.1326],\n",
       "        [0.1367],\n",
       "        [0.1408]], device='mps:0')"
      ]
     },
     "execution_count": 19,
     "metadata": {},
     "output_type": "execute_result"
    }
   ],
   "source": [
    "# Turn model into evaluation mode\n",
    "model_0.eval()\n",
    "\n",
    "# Make predictions on the test data\n",
    "with torch.inference_mode():\n",
    "    y_preds = model_0(X_test)\n",
    "y_preds"
   ]
  },
  {
   "cell_type": "code",
   "execution_count": 20,
   "metadata": {
    "tags": []
   },
   "outputs": [
    {
     "data": {
      "image/png": "[encoded data removed]",
      "text/plain": [
       "<Figure size 1000x700 with 1 Axes>"
      ]
     },
     "metadata": {},
     "output_type": "display_data"
    }
   ],
   "source": [
    "# plot_predictions(predictions=y_preds) # -> won't work... data not on CPU\n",
    "plot_data(X_train, y_train, X_test, y_test, y_preds)"
   ]
  },
  {
   "cell_type": "markdown",
   "metadata": {},
   "source": [
    "## 08 Saving and Loading the Model\n",
    "\n",
    "Saving the model is done via `torch.save()` function and loading via `torch.load()`\n",
    "<br/><br/>\n",
    "\n",
    "The recommended way is to store only the state_dict of the model with the extension `.pt` or `.pth`.\n",
    "\n",
    "Therefore `torch.load_state_dict()` function must be used\n",
    "<br/><br/>\n",
    "\n",
    "Remember to set the model into evaluation mode with `model.eval()` function, before running inference.\n",
    "\n",
    "More information including checkpoint saving: https://pytorch.org/tutorials/beginner/saving_loading_models.html\n"
   ]
  },
  {
   "cell_type": "code",
   "execution_count": 22,
   "metadata": {},
   "outputs": [],
   "source": [
    "# Save State Dict from our model\n",
    "model_filename = \"./linear_regression_state.pt\"\n",
    "torch.save(model_0.state_dict(),\"./linear_regression_state.pt\")"
   ]
  },
  {
   "cell_type": "code",
   "execution_count": 23,
   "metadata": {},
   "outputs": [
    {
     "data": {
      "text/plain": [
       "<All keys matched successfully>"
      ]
     },
     "execution_count": 23,
     "metadata": {},
     "output_type": "execute_result"
    }
   ],
   "source": [
    "# Create new Model from defined class above and load parameters\n",
    "loaded_model = LinearRegressionModel()\n",
    "loaded_model.load_state_dict(torch.load(model_filename))\n"
   ]
  },
  {
   "cell_type": "code",
   "execution_count": 28,
   "metadata": {},
   "outputs": [],
   "source": [
    "loaded_model.to(device)\n",
    "\n",
    "# 1. Put the loaded model into evaluation mode\n",
    "loaded_model.eval()\n",
    "\n",
    "# 2. Use the inference mode context manager to make predictions\n",
    "with torch.inference_mode():\n",
    "    loaded_model_preds = loaded_model(X_test)"
   ]
  },
  {
   "cell_type": "code",
   "execution_count": 30,
   "metadata": {},
   "outputs": [
    {
     "data": {
      "text/plain": [
       "tensor([[True],\n",
       "        [True],\n",
       "        [True],\n",
       "        [True],\n",
       "        [True],\n",
       "        [True],\n",
       "        [True],\n",
       "        [True],\n",
       "        [True],\n",
       "        [True]], device='mps:0')"
      ]
     },
     "execution_count": 30,
     "metadata": {},
     "output_type": "execute_result"
    }
   ],
   "source": [
    "# Compare all predictions with previous predictions\n",
    "y_preds == loaded_model_preds"
   ]
  }
 ],
 "metadata": {
  "kernelspec": {
   "display_name": "ml-pytorch",
   "language": "python",
   "name": "python3"
  },
  "language_info": {
   "codemirror_mode": {
    "name": "ipython",
    "version": 3
   },
   "file_extension": ".py",
   "mimetype": "text/x-python",
   "name": "python",
   "nbconvert_exporter": "python",
   "pygments_lexer": "ipython3",
   "version": "3.11.8"
  },
  "toc": {
   "base_numbering": 1
  },
  "toc-autonumbering": false,
  "toc-showcode": false,
  "toc-showmarkdowntxt": false,
  "toc-showtags": false
 },
 "nbformat": 4,
 "nbformat_minor": 4
}
